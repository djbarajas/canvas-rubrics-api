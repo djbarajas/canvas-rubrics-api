{
 "cells": [
  {
   "cell_type": "code",
   "execution_count": null,
   "metadata": {},
   "outputs": [],
   "source": [
    "import keyring        # for loading api token\n",
    "import urllib.request # for encoding URL parameters\n",
    "import pandas as pd   # for handling data frames and json\n",
    "import os             # for outputting the absolute path of the file containing the data"
   ]
  },
  {
   "cell_type": "markdown",
   "metadata": {},
   "source": [
    "# Authentication\n",
    "\n",
    "Please read the Authentication section of the [README](README.ipynb) to set up your acess token for the following code.  <span style=\"color:red\"> WARNING: the below code will load the access token you saved from the README.ipynb</span>"
   ]
  },
  {
   "cell_type": "code",
   "execution_count": null,
   "metadata": {},
   "outputs": [],
   "source": [
    "token = keyring.get_password(\"system\", \"canvas_token\");\n",
    "print(\"Loaded token with %d characters.\" % (len(token)))"
   ]
  },
  {
   "cell_type": "markdown",
   "metadata": {},
   "source": [
    "# Configuration\n",
    "\n",
    "The following configuration does not frequently change.  Input your course ID found in the url of your canvas course."
   ]
  },
  {
   "cell_type": "markdown",
   "metadata": {},
   "source": [
    "The course id can be found in the url of the course.  \n",
    "https://usfca.instructure.com/courses/{course_id}/assignments/{assignment}/submissions"
   ]
  },
  {
   "cell_type": "code",
   "execution_count": null,
   "metadata": {},
   "outputs": [],
   "source": [
    "course_id = int(input(\"Enter your course here: \"))"
   ]
  },
  {
   "cell_type": "code",
   "execution_count": null,
   "metadata": {},
   "outputs": [],
   "source": [
    "assignment_id = int(input(\"Enter your assignment here: \"))"
   ]
  },
  {
   "cell_type": "code",
   "execution_count": null,
   "metadata": {},
   "outputs": [],
   "source": [
    "config = {\n",
    "    'base_url': 'https://usfca.instructure.com',\n",
    "    'course_id': course_id,\n",
    "    'assignment': assignment_id\n",
    "}"
   ]
  },
  {
   "cell_type": "markdown",
   "metadata": {},
   "source": [
    "# Request Setup\n",
    "\n",
    "The following sets up the REST API request to list submissions withcomments included:\n",
    "\n",
    "<https://canvas.instructure.com/doc/api/submissions.html#method.submissions_api.index>"
   ]
  },
  {
   "cell_type": "code",
   "execution_count": null,
   "metadata": {},
   "outputs": [],
   "source": [
    "api_format = '{base_url}/api/v1/courses/{course_id}/assignments/{assignment}/submissions'\n",
    "api_url = api_format.format(**config)\n",
    "\n",
    "print(\"URL:\", api_url)"
   ]
  },
  {
   "cell_type": "code",
   "execution_count": null,
   "metadata": {},
   "outputs": [],
   "source": [
    "params = {\n",
    "    'per_page': 100,\n",
    "    'include[]': 'submission_comments'\n",
    "}\n",
    "\n",
    "encoded = urllib.parse.urlencode(params)\n",
    "print(\"Params:\", encoded) # do not output api key "
   ]
  },
  {
   "cell_type": "code",
   "execution_count": null,
   "metadata": {},
   "outputs": [],
   "source": [
    "rest_call = '{}?access_token={}&{}'.format(api_url, token, encoded)\n",
    "print(\"REST call is %d characters.\" % (len(rest_call)))"
   ]
  },
  {
   "cell_type": "markdown",
   "metadata": {},
   "source": [
    "# Fetch Data\n",
    "\n",
    "Fetch the JSON data using pandas."
   ]
  },
  {
   "cell_type": "code",
   "execution_count": null,
   "metadata": {},
   "outputs": [],
   "source": [
    "data = pd.read_json(rest_call) # gets the data from the given url in json format\n",
    "print('Loaded {} rows and {} columns.'.format(*data.shape)) # prints the number of rows and columns of the recieved data\n",
    "# all the columns are based on information about the submissions such as when it is submitted, description, etc.\n",
    "# the rows are based on each submission listed in the assignment"
   ]
  },
  {
   "cell_type": "code",
   "execution_count": null,
   "metadata": {},
   "outputs": [],
   "source": [
    "# output columns (each are for information about a submission)\n",
    "print('Columns:', list(data.columns.values))"
   ]
  },
  {
   "cell_type": "code",
   "execution_count": null,
   "metadata": {},
   "outputs": [],
   "source": [
    "data.head(5) # should see 5 submissions, one per row"
   ]
  },
  {
   "cell_type": "code",
   "execution_count": null,
   "metadata": {},
   "outputs": [],
   "source": [
    "data = data[['id', 'submission_comments']] # we only need the id to map to a submission as well as the comment information themselves"
   ]
  },
  {
   "cell_type": "code",
   "execution_count": null,
   "metadata": {},
   "outputs": [],
   "source": [
    "data.rename(columns={\"id\": \"submission_id\"}, inplace=True) # rename id to something a bit more descriptive"
   ]
  },
  {
   "cell_type": "markdown",
   "metadata": {},
   "source": [
    "# Wrangling\n",
    "\n",
    "Some of the columns could use some wrangling (especially the `enrollments` column)."
   ]
  },
  {
   "cell_type": "code",
   "execution_count": null,
   "metadata": {},
   "outputs": [],
   "source": [
    "wrangled = data.copy()"
   ]
  },
  {
   "cell_type": "code",
   "execution_count": null,
   "metadata": {},
   "outputs": [],
   "source": [
    "wrangled.head()"
   ]
  },
  {
   "cell_type": "code",
   "execution_count": null,
   "metadata": {},
   "outputs": [],
   "source": [
    "# converts a list into a bunch of rows (list being all comments per submission)\n",
    "unwrapped = wrangled.explode('submission_comments') \n",
    "unwrapped"
   ]
  },
  {
   "cell_type": "code",
   "execution_count": null,
   "metadata": {},
   "outputs": [],
   "source": [
    "# split into multiple series \n",
    "# convert the dictionary that corresponds to a submission comment into a row of a dataframe for all rows\n",
    "attatchments = unwrapped.submission_comments.apply(pd.Series)\n",
    "attatchments.head(5)"
   ]
  },
  {
   "cell_type": "code",
   "execution_count": null,
   "metadata": {},
   "outputs": [],
   "source": [
    "wrangled = pd.concat([unwrapped, attatchments], axis=1) # concatenate the submission id to the comment information to map back to the submission data"
   ]
  },
  {
   "cell_type": "code",
   "execution_count": null,
   "metadata": {},
   "outputs": [],
   "source": [
    "wrangled.drop(columns=[\"submission_comments\"], inplace=True) # ynneeded now that data has been expanded"
   ]
  },
  {
   "cell_type": "code",
   "execution_count": null,
   "metadata": {},
   "outputs": [],
   "source": [
    "wrangled.reset_index(inplace=True)"
   ]
  },
  {
   "cell_type": "code",
   "execution_count": null,
   "metadata": {},
   "outputs": [],
   "source": [
    "wrangled # make sure data looks accurate"
   ]
  },
  {
   "cell_type": "markdown",
   "metadata": {},
   "source": [
    "# Optional"
   ]
  },
  {
   "cell_type": "markdown",
   "metadata": {},
   "source": [
    "Do this if you already saved a set of submission comments to a file and want to add another set of submission comments to it from another assignment"
   ]
  },
  {
   "cell_type": "code",
   "execution_count": null,
   "metadata": {},
   "outputs": [],
   "source": [
    "# submission_comments = pd.read_csv('submission_comments.csv')\n",
    "# wrangled = pd.concat([wrangled, submission_comments], axis=0, sort=False)"
   ]
  },
  {
   "cell_type": "markdown",
   "metadata": {},
   "source": [
    "# Output Results\n",
    "\n",
    "Output the results to CSV."
   ]
  },
  {
   "cell_type": "code",
   "execution_count": null,
   "metadata": {},
   "outputs": [],
   "source": [
    "path = 'submission_comments.csv'"
   ]
  },
  {
   "cell_type": "code",
   "execution_count": null,
   "metadata": {},
   "outputs": [],
   "source": [
    "wrangled.to_csv(path, header = True, index = False)"
   ]
  },
  {
   "cell_type": "code",
   "execution_count": null,
   "metadata": {},
   "outputs": [],
   "source": [
    "os.path.abspath('submission_comments.csv') # the absolute path of the result"
   ]
  }
 ],
 "metadata": {
  "kernelspec": {
   "display_name": "Python 3",
   "language": "python",
   "name": "python3"
  },
  "language_info": {
   "codemirror_mode": {
    "name": "ipython",
    "version": 3
   },
   "file_extension": ".py",
   "mimetype": "text/x-python",
   "name": "python",
   "nbconvert_exporter": "python",
   "pygments_lexer": "ipython3",
   "version": "3.7.6"
  }
 },
 "nbformat": 4,
 "nbformat_minor": 2
}
