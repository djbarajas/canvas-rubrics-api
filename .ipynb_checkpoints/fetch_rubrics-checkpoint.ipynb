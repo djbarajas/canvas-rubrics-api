{
 "cells": [
  {
   "cell_type": "code",
   "execution_count": null,
   "metadata": {},
   "outputs": [],
   "source": [
    "import keyring        # for loading api token\n",
    "import urllib.request # for encoding URL parameters\n",
    "import pandas as pd   # for handling data frames\n",
    "import json           # for handling json\n",
    "import os             # for outputting the absolute path of the file containing the data"
   ]
  },
  {
   "cell_type": "markdown",
   "metadata": {},
   "source": [
    "# Authentication\n",
    "\n",
    "Please read the Authentication section of the [README](README.ipynb) to set up your acess token for the following code.  <span style=\"color:red\"> WARNING: the below code will load the access token you saved from the README.ipynb</span>"
   ]
  },
  {
   "cell_type": "code",
   "execution_count": null,
   "metadata": {},
   "outputs": [],
   "source": [
    "token = keyring.get_password(\"system\", \"canvas_token\");\n",
    "print(\"Loaded token with %d characters.\" % (len(token)))"
   ]
  },
  {
   "cell_type": "markdown",
   "metadata": {},
   "source": [
    "# Configuration\n",
    "\n",
    "The following configuration does not frequently change. Input your course ID found in the url of your canvas course."
   ]
  },
  {
   "cell_type": "code",
   "execution_count": null,
   "metadata": {},
   "outputs": [],
   "source": [
    "course_id = int(input(\"Enter your course here: \"))"
   ]
  },
  {
   "cell_type": "markdown",
   "metadata": {},
   "source": [
    "This next one can change based on your assignment  \n",
    "This can be found https://usfca.instructure.com/courses/{course_id}/assignments/{assignment_id}"
   ]
  },
  {
   "cell_type": "code",
   "execution_count": null,
   "metadata": {},
   "outputs": [],
   "source": [
    "assignment_id = int(input(\"Enter your assignment here: \"))"
   ]
  },
  {
   "cell_type": "code",
   "execution_count": null,
   "metadata": {},
   "outputs": [],
   "source": [
    "config = {\n",
    "        'base_url': 'https://usfca.instructure.com',\n",
    "        'course_id': course_id,\n",
    "        'assignment': assignment_id\n",
    "}"
   ]
  },
  {
   "cell_type": "markdown",
   "metadata": {},
   "source": [
    "# Request Setup\n",
    "\n",
    "The following sets up the REST API request to list students:\n",
    "\n",
    "<https://canvas.instructure.com/doc/api/assignments.html#method.assignments_api.index>"
   ]
  },
  {
   "cell_type": "code",
   "execution_count": null,
   "metadata": {},
   "outputs": [],
   "source": [
    "api_format = '{base_url}/api/v1/courses/{course_id}/assignments/{assignment}'\n",
    "api_url = api_format.format(**config)\n",
    "\n",
    "print(\"URL:\", api_url)"
   ]
  },
  {
   "cell_type": "code",
   "execution_count": null,
   "metadata": {},
   "outputs": [],
   "source": [
    "params = {\n",
    "    'per_page': 1\n",
    "}\n",
    "\n",
    "encoded = urllib.parse.urlencode(params)\n",
    "print(\"Params:\", encoded) # do not output api key "
   ]
  },
  {
   "cell_type": "code",
   "execution_count": null,
   "metadata": {},
   "outputs": [],
   "source": [
    "rest_call = '{}?access_token={}&{}'.format(api_url, token, encoded)\n",
    "print(\"REST call is %d characters.\" % (len(rest_call)))"
   ]
  },
  {
   "cell_type": "markdown",
   "metadata": {},
   "source": [
    "# Fetch Data\n",
    "\n",
    "Fetch the JSON data using pandas."
   ]
  },
  {
   "cell_type": "code",
   "execution_count": null,
   "metadata": {},
   "outputs": [],
   "source": [
    "# due to the format of this json object, some preprocessing using the json library needs to be done then converted to a dataframe\n",
    "with urllib.request.urlopen(rest_call) as url:\n",
    "    data = json.loads(url.read().decode())\n",
    "assignment = pd.DataFrame.from_dict(data, orient='index')\n",
    "print('Loaded {} rows and {} columns.'.format(*assignment.shape))\n",
    "# The column should be the assignment \n",
    "# the rows are the information about the assignment"
   ]
  },
  {
   "cell_type": "code",
   "execution_count": null,
   "metadata": {},
   "outputs": [],
   "source": [
    "# output columns (should only be one for the assignment)\n",
    "print('Columns:', list(assignment.columns.values))"
   ]
  },
  {
   "cell_type": "code",
   "execution_count": null,
   "metadata": {},
   "outputs": [],
   "source": [
    "assignment.head(5)"
   ]
  },
  {
   "cell_type": "markdown",
   "metadata": {},
   "source": [
    "# Obtain Rubric"
   ]
  },
  {
   "cell_type": "markdown",
   "metadata": {},
   "source": [
    "Attempting to obtain rubric information if there is one in the assignment"
   ]
  },
  {
   "cell_type": "code",
   "execution_count": null,
   "metadata": {},
   "outputs": [],
   "source": [
    "try:\n",
    "    settings = assignment.loc['rubric_settings']\n",
    "except KeyError:\n",
    "    print(\"There is no rubric here please input a new assignment or check that your access token is accurate\")"
   ]
  },
  {
   "cell_type": "code",
   "execution_count": null,
   "metadata": {},
   "outputs": [],
   "source": [
    "converted = pd.DataFrame.from_dict(settings)"
   ]
  },
  {
   "cell_type": "markdown",
   "metadata": {},
   "source": [
    "# Create Rubric Dataframe"
   ]
  },
  {
   "cell_type": "markdown",
   "metadata": {},
   "source": [
    "Creating dataframe out of the rubric and renaming columns "
   ]
  },
  {
   "cell_type": "code",
   "execution_count": null,
   "metadata": {},
   "outputs": [],
   "source": [
    "new_df = pd.DataFrame(converted.loc[0, 'rubric_settings'], index=[0]) # creating a dataframe of the rubric"
   ]
  },
  {
   "cell_type": "code",
   "execution_count": null,
   "metadata": {},
   "outputs": [],
   "source": [
    "new_df # should only be as many rows as there are rubrics within the assignment"
   ]
  },
  {
   "cell_type": "code",
   "execution_count": null,
   "metadata": {},
   "outputs": [],
   "source": [
    "# there are many similar names with each endpoint of the data these three columns in particular could be more clear\n",
    "df = new_df.rename({'id':'rubric_id', 'title':'rubric_name', 'points_possible':'rubric_points'}, axis='columns')"
   ]
  },
  {
   "cell_type": "code",
   "execution_count": null,
   "metadata": {},
   "outputs": [],
   "source": [
    "df # check that the columns were renamed"
   ]
  },
  {
   "cell_type": "markdown",
   "metadata": {},
   "source": [
    "# Optional"
   ]
  },
  {
   "cell_type": "markdown",
   "metadata": {},
   "source": [
    "Do this if you already saved a rubric to a file and want to add another rubric to it from another assignment"
   ]
  },
  {
   "cell_type": "code",
   "execution_count": null,
   "metadata": {},
   "outputs": [],
   "source": [
    "# rubrics = pd.read_csv('rubrics.csv')\n",
    "# df = pd.concat([df, rubrics], axis=0, sort=False)"
   ]
  },
  {
   "cell_type": "markdown",
   "metadata": {},
   "source": [
    "# Output Results\n",
    "\n",
    "Output the results to CSV."
   ]
  },
  {
   "cell_type": "code",
   "execution_count": null,
   "metadata": {},
   "outputs": [],
   "source": [
    "path = 'rubrics.csv'"
   ]
  },
  {
   "cell_type": "code",
   "execution_count": null,
   "metadata": {},
   "outputs": [],
   "source": [
    "df.to_csv(path, header = True, index = False)"
   ]
  },
  {
   "cell_type": "code",
   "execution_count": null,
   "metadata": {},
   "outputs": [],
   "source": [
    "os.path.abspath('rubrics.csv') # the absolute path of the result"
   ]
  }
 ],
 "metadata": {
  "kernelspec": {
   "display_name": "Python 3",
   "language": "python",
   "name": "python3"
  },
  "language_info": {
   "codemirror_mode": {
    "name": "ipython",
    "version": 3
   },
   "file_extension": ".py",
   "mimetype": "text/x-python",
   "name": "python",
   "nbconvert_exporter": "python",
   "pygments_lexer": "ipython3",
   "version": "3.7.6"
  }
 },
 "nbformat": 4,
 "nbformat_minor": 2
}
