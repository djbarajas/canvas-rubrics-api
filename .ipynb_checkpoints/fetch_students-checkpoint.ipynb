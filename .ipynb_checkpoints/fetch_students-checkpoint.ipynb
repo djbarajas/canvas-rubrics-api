{
 "cells": [
  {
   "cell_type": "code",
   "execution_count": null,
   "metadata": {},
   "outputs": [],
   "source": [
    "import keyring        # for loading api token\n",
    "import urllib.request # for encoding URL parameters\n",
    "import pandas as pd   # for handling data frames and json\n",
    "import os             # for outputting the absolute path of the file containing the data"
   ]
  },
  {
   "cell_type": "markdown",
   "metadata": {},
   "source": [
    "# Authentication\n",
    "\n",
    "Please read the Authentication section of the [README](README.ipynb) to set up your acess token for the following code.  <span style=\"color:red\"> WARNING: the below code will load the access token you saved from the README.ipynb</span>"
   ]
  },
  {
   "cell_type": "code",
   "execution_count": null,
   "metadata": {},
   "outputs": [],
   "source": [
    "token = keyring.get_password(\"system\", \"canvas_token\");\n",
    "print(\"Loaded token with %d characters.\" % (len(token)))"
   ]
  },
  {
   "cell_type": "markdown",
   "metadata": {},
   "source": [
    "# Configuration\n",
    "\n",
    "The following configuration does not frequently change.  Input your course ID found in the url of your canvas course."
   ]
  },
  {
   "cell_type": "markdown",
   "metadata": {},
   "source": [
    "The course id can be found in the url of the course.  \n",
    "https://usfca.instructure.com/courses/{course_id}"
   ]
  },
  {
   "cell_type": "code",
   "execution_count": null,
   "metadata": {},
   "outputs": [],
   "source": [
    "course_id = int(input(\"Enter your course here: \"))"
   ]
  },
  {
   "cell_type": "code",
   "execution_count": null,
   "metadata": {},
   "outputs": [],
   "source": [
    "config = {\n",
    "    'base_url': 'https://usfca.instructure.com',\n",
    "    'course_id': course_id\n",
    "}"
   ]
  },
  {
   "cell_type": "markdown",
   "metadata": {},
   "source": [
    "# Request Setup\n",
    "\n",
    "The following sets up the REST API request to list students:\n",
    "\n",
    "<https://canvas.instructure.com/doc/api/courses.html#method.courses.users>"
   ]
  },
  {
   "cell_type": "code",
   "execution_count": null,
   "metadata": {},
   "outputs": [],
   "source": [
    "api_format = '{base_url}/api/v1/courses/{course_id}/users'\n",
    "api_url = api_format.format(**config)\n",
    "\n",
    "print(\"URL:\", api_url)"
   ]
  },
  {
   "cell_type": "code",
   "execution_count": null,
   "metadata": {},
   "outputs": [],
   "source": [
    "params = {\n",
    "    'per_page': 100,\n",
    "    'enrollment_type[]': 'student',\n",
    "    'include[]': 'enrollments'\n",
    "}\n",
    "\n",
    "encoded = urllib.parse.urlencode(params)\n",
    "print(\"Params:\", encoded) # do not output api key "
   ]
  },
  {
   "cell_type": "code",
   "execution_count": null,
   "metadata": {},
   "outputs": [],
   "source": [
    "rest_call = '{}?access_token={}&{}'.format(api_url, token, encoded)\n",
    "print(\"REST call is %d characters.\" % (len(rest_call)))"
   ]
  },
  {
   "cell_type": "markdown",
   "metadata": {},
   "source": [
    "# Fetch Data\n",
    "\n",
    "Fetch the JSON data using pandas."
   ]
  },
  {
   "cell_type": "code",
   "execution_count": null,
   "metadata": {},
   "outputs": [],
   "source": [
    "data = pd.read_json(rest_call)                               # fetch data using pandas\n",
    "print('Loaded {} rows and {} columns.'.format(*data.shape))  # prints the number of rows and columns of the recieved data\n",
    "# all the columns are based on information about the assignments such as when it is due, description, etc.\n",
    "# the rows are based on each assignment listed in the course"
   ]
  },
  {
   "cell_type": "code",
   "execution_count": null,
   "metadata": {},
   "outputs": [],
   "source": [
    "# output columns (student information)\n",
    "print('Columns:', list(data.columns.values))"
   ]
  },
  {
   "cell_type": "code",
   "execution_count": null,
   "metadata": {},
   "outputs": [],
   "source": [
    "data.head(5) # should see 5 students, one per row"
   ]
  },
  {
   "cell_type": "code",
   "execution_count": null,
   "metadata": {},
   "outputs": [],
   "source": [
    "data[['name']] # student names"
   ]
  },
  {
   "cell_type": "markdown",
   "metadata": {},
   "source": [
    "# Filtering\n",
    "\n",
    "We only want to keep certain rows and columns."
   ]
  },
  {
   "cell_type": "code",
   "execution_count": null,
   "metadata": {},
   "outputs": [],
   "source": [
    "filtered = data.copy()"
   ]
  },
  {
   "cell_type": "code",
   "execution_count": null,
   "metadata": {},
   "outputs": [],
   "source": [
    "filtered.sortable_name.str.split(\", \", n = 1, expand = True) # want to split student names such that we can have a first and last name column"
   ]
  },
  {
   "cell_type": "code",
   "execution_count": null,
   "metadata": {},
   "outputs": [],
   "source": [
    "# break sortable_name into two columns\n",
    "filtered[['last', 'first']] = filtered.sortable_name.str.split(\", \", n = 1, expand = True)\n",
    "filtered.head(5)"
   ]
  },
  {
   "cell_type": "markdown",
   "metadata": {},
   "source": [
    "# Wrangling\n",
    "\n",
    "Some of the columns could use some wrangling (especially the `enrollments` column)."
   ]
  },
  {
   "cell_type": "code",
   "execution_count": null,
   "metadata": {},
   "outputs": [],
   "source": [
    "wrangled = filtered.copy()"
   ]
  },
  {
   "cell_type": "code",
   "execution_count": null,
   "metadata": {},
   "outputs": [],
   "source": [
    "# look at a single entry\n",
    "print(wrangled.iloc[0]['enrollments'])"
   ]
  },
  {
   "cell_type": "code",
   "execution_count": null,
   "metadata": {},
   "outputs": [],
   "source": [
    "# make sure each entry is a list with 1 element\n",
    "wrangled.enrollments.apply(len)"
   ]
  },
  {
   "cell_type": "code",
   "execution_count": null,
   "metadata": {},
   "outputs": [],
   "source": [
    "# extract first element from the list\n",
    "unwrapped = wrangled.enrollments.str[0]\n",
    "unwrapped"
   ]
  },
  {
   "cell_type": "code",
   "execution_count": null,
   "metadata": {},
   "outputs": [],
   "source": [
    "# split into multiple series\n",
    "enrollments = unwrapped.apply(pd.Series)\n",
    "enrollments.head(5)"
   ]
  },
  {
   "cell_type": "code",
   "execution_count": null,
   "metadata": {},
   "outputs": [],
   "source": [
    "print('Columns:', list(enrollments.columns.values))"
   ]
  },
  {
   "cell_type": "code",
   "execution_count": null,
   "metadata": {},
   "outputs": [],
   "source": [
    "# look at a single entry\n",
    "print(enrollments.iloc[0]['grades'])"
   ]
  },
  {
   "cell_type": "code",
   "execution_count": null,
   "metadata": {},
   "outputs": [],
   "source": [
    "# extract the grade information\n",
    "grades = enrollments.grades.apply(pd.Series)\n",
    "grades.head(5)"
   ]
  },
  {
   "cell_type": "code",
   "execution_count": null,
   "metadata": {},
   "outputs": [],
   "source": [
    "# add grades to our data frame\n",
    "wrangled['final_grade'] = grades.final_grade\n",
    "wrangled['final_score'] = grades.final_score\n",
    "wrangled.head(5)"
   ]
  },
  {
   "cell_type": "code",
   "execution_count": null,
   "metadata": {},
   "outputs": [],
   "source": [
    "# drop the enrollments column\n",
    "wrangled.drop(['enrollments'], axis = 1, inplace = True)\n",
    "wrangled.head(5)"
   ]
  },
  {
   "cell_type": "code",
   "execution_count": null,
   "metadata": {},
   "outputs": [],
   "source": [
    "wrangled"
   ]
  },
  {
   "cell_type": "markdown",
   "metadata": {},
   "source": [
    "# Output Results\n",
    "\n",
    "Output the results to CSV."
   ]
  },
  {
   "cell_type": "code",
   "execution_count": null,
   "metadata": {},
   "outputs": [],
   "source": [
    "path = 'students.csv'"
   ]
  },
  {
   "cell_type": "code",
   "execution_count": null,
   "metadata": {},
   "outputs": [],
   "source": [
    "wrangled.to_csv(path, header = True, index = False)"
   ]
  },
  {
   "cell_type": "code",
   "execution_count": null,
   "metadata": {},
   "outputs": [],
   "source": [
    "os.path.abspath('students.csv') # the absolute path of the result"
   ]
  }
 ],
 "metadata": {
  "kernelspec": {
   "display_name": "Python 3",
   "language": "python",
   "name": "python3"
  },
  "language_info": {
   "codemirror_mode": {
    "name": "ipython",
    "version": 3
   },
   "file_extension": ".py",
   "mimetype": "text/x-python",
   "name": "python",
   "nbconvert_exporter": "python",
   "pygments_lexer": "ipython3",
   "version": "3.7.6"
  }
 },
 "nbformat": 4,
 "nbformat_minor": 2
}
