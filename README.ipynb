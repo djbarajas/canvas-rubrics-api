{
 "cells": [
  {
   "cell_type": "markdown",
   "metadata": {},
   "source": [
    "# Introduction"
   ]
  },
  {
   "cell_type": "markdown",
   "metadata": {},
   "source": [
    "These notebooks gather data for Instructure Canvas courses using different endpoints of the Canvas API. The API documentation can be found at: \n",
    "\n",
    "<https://canvas.instructure.com/doc/api/>"
   ]
  },
  {
   "cell_type": "markdown",
   "metadata": {},
   "source": [
    "There are many different endpoints part of this API. These notebooks cover how to fetch assignments, students in a course, assignment submissions, rubrics, and rubric feedback. Each notebook is related to one of these endpoints."
   ]
  },
  {
   "cell_type": "markdown",
   "metadata": {},
   "source": [
    "## What data is gathered?"
   ]
  },
  {
   "cell_type": "markdown",
   "metadata": {},
   "source": [
    "The <b>fetch_assignments.ipynb</b> gets assignment information from the assignment end point of the API. More information can be found at <https://canvas.instructure.com/doc/api/assignments.html#method.assignments_api.index>.  \n",
    "The <b>fetch_peer_reviews.ipynb</b> gets peer feedback information from the rubric end point of the API. More information can be found at <https://canvas.instructure.com/doc/api/rubrics.html#method.rubrics_api.show>.  \n",
    "The <b>fetch_questions.ipynb</b> gets question information from the rubric end point of the API. More information can be found at <https://canvas.instructure.com/doc/api/rubrics.html#method.rubrics_api.show>.  \n",
    "The <b>fetch_rubrics.ipynb</b> gets rubric information from the assignments end point of the API. More information can be found at <https://canvas.instructure.com/doc/api/assignments.html#method.assignments_api.index>.  \n",
    "The <b>fetch_students.ipynb</b> gets student information from the users end point of the API. More information can be found at <https://canvas.instructure.com/doc/api/courses.html#method.courses.users>.  \n",
    "The <b>fetch_submission_comments.ipynb</b> gets submission comments information from the submissions end point of the API. More information can be found at <https://canvas.instructure.com/doc/api/submissions.html#method.submissions_api.index>.  \n",
    "The <b>fetch_submissions.ipynb</b> gets submission information from the submissions end point of the API. More information can be found at <https://canvas.instructure.com/doc/api/submissions.html#method.submissions_api.index>.  "
   ]
  },
  {
   "cell_type": "markdown",
   "metadata": {},
   "source": [
    "## Getting Started"
   ]
  },
  {
   "cell_type": "markdown",
   "metadata": {},
   "source": [
    "Before gathering data from the API, you must generate a Canvas API access token. This token is used by all of the notebooks to access course information. This token is specifically used in each request for the access_token parameter. The steps can be found below."
   ]
  },
  {
   "cell_type": "markdown",
   "metadata": {},
   "source": [
    "1. Head over to your Canvas dashboard at <https://usfca.instructure.com/> and click on the account icon as shown below.  \n",
    "<img src=\"images/Canvas_Dashboard.png\" />"
   ]
  },
  {
   "cell_type": "markdown",
   "metadata": {},
   "source": [
    "2. In the account menu click on settings.  \n",
    "<img src=\"images/Account_menu.png\" />"
   ]
  },
  {
   "cell_type": "markdown",
   "metadata": {},
   "source": [
    "3. Scroll down to the APPROVED INTEGRATIONS section and click on the button + New Access Token. Note, <span style=\"color:blue\">the blue arrow</span> is an example of an already created API key with infomration of what it might look like.  <span style=\"color:red\">The red arrow</span> points to creating a new access token.  \n",
    "<img src=\"images/Settings.png\" />"
   ]
  },
  {
   "cell_type": "markdown",
   "metadata": {},
   "source": [
    "4. Fill in the purpose field which is a short description of what the token is used for. You can optionally add an expiration date otherwise the token will not expire. Then click the Generate token button.\n",
    "<img src=\"images/Generate_token.png\" />"
   ]
  },
  {
   "cell_type": "markdown",
   "metadata": {},
   "source": [
    "5. Now you should see Access Token Details which gives information about the token such as the token itself as well as how it was generated, the purpose, and expiration date.  Copy and save the token somewhere for later use <span style=\"color:red\">(red arrow pointing to where it would be)</span>. If an expiration date has been passed or the token was lost, delete the token and regenerate it the same way.\n",
    "<img src=\"images/Token.png\" />"
   ]
  },
  {
   "cell_type": "markdown",
   "metadata": {},
   "source": [
    "# Authentication\n",
    "\n",
    "These notebooks use the [keyring](https://pypi.org/project/keyring/) package to access your Instructure Canvas Access Token as the password for the `canvas_token` username. You can set your token as follows:\n",
    "\n",
    "```\n",
    "import keyring\n",
    "keyring.set_password(\"system\", \"canvas_token\", \"YOUR_ACCESS_TOKEN\");\n",
    "```\n",
    "\n",
    "...where `YOUR_ACCESS_TOKEN` is your access token generated within Canvas.  Note, this code need only be executed once."
   ]
  },
  {
   "cell_type": "code",
   "execution_count": null,
   "metadata": {},
   "outputs": [],
   "source": [
    "import keyring\n",
    "keyring.set_password(\"system\", \"canvas_token\", \"YOUR_ACCESS_TOKEN\"); # WARNING Here is where you would replace your access token with the canvas token you obtained from the previous section"
   ]
  },
  {
   "cell_type": "markdown",
   "metadata": {},
   "source": [
    "# Data Gathering"
   ]
  },
  {
   "cell_type": "markdown",
   "metadata": {},
   "source": [
    "In order to get data from the api, various ids must be obtained.  All of these ids can be found in the url of the Canvas page. To get all the data from the API with these notebooks you will need 3 ids.  The three ids are the <b>course id</b>, <b>assignment id</b>, and <b>rubric id</b>.  This part of the notebook details exactly how to easily obtain these numbers."
   ]
  },
  {
   "cell_type": "markdown",
   "metadata": {},
   "source": [
    "## Obtaining Ids"
   ]
  },
  {
   "cell_type": "markdown",
   "metadata": {},
   "source": [
    "### Course Id"
   ]
  },
  {
   "cell_type": "markdown",
   "metadata": {},
   "source": [
    "1. Head over to your Canvas Dashboard at <https://usfca.instructure.com/> and click on the course that you want data from.\n",
    "<img src=\"images/Canvas_Dashboard_Full.png\" />"
   ]
  },
  {
   "cell_type": "markdown",
   "metadata": {},
   "source": [
    "2. Once there, the URL should contain the course id as shown below. <span style=\"color:red\">(red arrow pointing to where it would be)</span>  \n",
    "<img src=\"images/Course_Home_Page.png\" />"
   ]
  },
  {
   "cell_type": "markdown",
   "metadata": {},
   "source": [
    "### Assignment Id"
   ]
  },
  {
   "cell_type": "markdown",
   "metadata": {},
   "source": [
    "1. After obtaining the course id as seen above, to obtain an assignment id click the assignments tab.\n",
    "<img src=\"images/Course_Assignments_Page.png\" />"
   ]
  },
  {
   "cell_type": "markdown",
   "metadata": {},
   "source": [
    "2. Choose any assignment on the page and just like the course id, the assignment id can be found in the url.  \n",
    "<img src=\"images/Course_Assignment_Page.png\" />"
   ]
  },
  {
   "cell_type": "markdown",
   "metadata": {},
   "source": [
    "### Rubric Id"
   ]
  },
  {
   "cell_type": "markdown",
   "metadata": {},
   "source": [
    "1. Head over to the Rubrics section of the menu.  \n",
    "<img src=\"images/Course_Rubric_Page.png\" />"
   ]
  },
  {
   "cell_type": "markdown",
   "metadata": {},
   "source": [
    "2.  Choose a rubric that you want data from.  \n",
    "<img src=\"images/Rubric_List.png\" />"
   ]
  },
  {
   "cell_type": "markdown",
   "metadata": {},
   "source": [
    "3.  Once chosen, look at the URL of the rubric.\n",
    "<img src=\"images/Rubric_Page.png\" />"
   ]
  },
  {
   "cell_type": "markdown",
   "metadata": {},
   "source": [
    "## Next Steps"
   ]
  },
  {
   "cell_type": "markdown",
   "metadata": {},
   "source": [
    "After you have obtained the course id, any assignment ids, and any rubric ids that you want data from, feel free to run the notebooks in any order.  If you want data from multiple rubrics, assignments, and/or courses, there is a section in the notebooks that is commented with the title \"Optional\" which you can run to add the data to existing data rather than a new data file."
   ]
  }
 ],
 "metadata": {
  "kernelspec": {
   "display_name": "Python 3",
   "language": "python",
   "name": "python3"
  },
  "language_info": {
   "codemirror_mode": {
    "name": "ipython",
    "version": 3
   },
   "file_extension": ".py",
   "mimetype": "text/x-python",
   "name": "python",
   "nbconvert_exporter": "python",
   "pygments_lexer": "ipython3",
   "version": "3.7.6"
  }
 },
 "nbformat": 4,
 "nbformat_minor": 4
}
